{
 "cells": [
  {
   "cell_type": "markdown",
   "metadata": {},
   "source": [
    "# Read image, flatten image, input image matrix into dataVector"
   ]
  },
  {
   "cell_type": "code",
   "execution_count": 2,
   "metadata": {},
   "outputs": [
    {
     "name": "stdout",
     "output_type": "stream",
     "text": [
      "300 199\n",
      "[[  1. 140. 223.   0.   0.]\n",
      " [  1. 142. 224.   1.   0.]\n",
      " [  0. 141. 223.   2.   0.]\n",
      " ...\n",
      " [  0.   0.   0.   0.   0.]\n",
      " [  0.   0.   0.   0.   0.]\n",
      " [  0.   0.   0.   0.   0.]]\n"
     ]
    }
   ],
   "source": [
    "import numpy as np\n",
    "import sys\n",
    "import cv2\n",
    "import matplotlib.pyplot as plt \n",
    "from PIL import Image\n",
    "from sklearn import preprocessing\n",
    "from sklearn.metrics.pairwise import euclidean_distances\n",
    "\n",
    "# Set parameters\n",
    "iterations = 4\n",
    "C = 5\n",
    "\n",
    "img = Image.open('burma.jpg')\n",
    "img_w = img.size[0]\n",
    "img_h = img.size[1]\n",
    "\n",
    "print(img_w, img_h)\n",
    "\n",
    "X = np.ndarray(shape=(img_w * img_h, 5), dtype=float)\n",
    "\n",
    "for y in range(0, img_h):\n",
    "      for x in range(0, img_w):\n",
    "      \txy = (x, y)\n",
    "      \trgb = img.getpixel(xy)\n",
    "      \tX[x + y * img_h, 0] = rgb[0]\n",
    "      \tX[x + y * img_h, 1] = rgb[1]\n",
    "      \tX[x + y * img_h, 2] = rgb[2]\n",
    "      \tX[x + y * img_h, 3] = x\n",
    "      \tX[x + y * img_h, 4] = y\n",
    "        \n",
    "print(X)"
   ]
  },
  {
   "cell_type": "markdown",
   "metadata": {},
   "source": [
    "# Rescale image into range [0,1]"
   ]
  },
  {
   "cell_type": "code",
   "execution_count": 3,
   "metadata": {},
   "outputs": [
    {
     "name": "stdout",
     "output_type": "stream",
     "text": [
      "[[0.00379786 0.53170095 0.84692365 0.         0.        ]\n",
      " [0.00377045 0.53540323 0.84457975 0.00377045 0.        ]\n",
      " [0.         0.53440538 0.84519432 0.00758022 0.        ]\n",
      " ...\n",
      " [0.         0.         0.         0.         0.        ]\n",
      " [0.         0.         0.         0.         0.        ]\n",
      " [0.         0.         0.         0.         0.        ]]\n"
     ]
    }
   ],
   "source": [
    "X_scaled = preprocessing.normalize(X)\n",
    "print(X_scaled)"
   ]
  },
  {
   "cell_type": "markdown",
   "metadata": {},
   "source": [
    "# Randomly take centers of clusters"
   ]
  },
  {
   "cell_type": "code",
   "execution_count": 4,
   "metadata": {},
   "outputs": [
    {
     "name": "stdout",
     "output_type": "stream",
     "text": [
      "0.0 0.997931139592263\n",
      "[[0.8319717  0.93094431 0.04044363 0.44774744 0.49027798]\n",
      " [0.40739197 0.17822722 0.98765448 0.30705303 0.85504653]\n",
      " [0.37802277 0.00268153 0.35024555 0.22985995 0.77352313]\n",
      " [0.66170206 0.9223737  0.00651264 0.61389586 0.40712225]\n",
      " [0.37918222 0.8000322  0.98189093 0.92190538 0.19668888]]\n"
     ]
    }
   ],
   "source": [
    "minValue = np.amin(X_scaled)\n",
    "maxValue = np.amax(X_scaled)\n",
    "\n",
    "print(minValue, maxValue)\n",
    "\n",
    "V = np.ndarray(shape=(C,5))\n",
    "for index, v in enumerate(V):\n",
    "    V[index] = np.random.uniform(minValue, maxValue, 5)\n",
    "\n",
    "print(V)\n"
   ]
  },
  {
   "cell_type": "markdown",
   "metadata": {},
   "source": [
    "# Calculate distance between each datapoint and center of cluster"
   ]
  },
  {
   "cell_type": "code",
   "execution_count": 10,
   "metadata": {
    "scrolled": false
   },
   "outputs": [
    {
     "name": "stdout",
     "output_type": "stream",
     "text": [
      "Centers Iteration Num: 0 \n",
      " [[0.49731297 0.446022   0.30477839 0.36685771 0.48462837]\n",
      " [0.2424998  0.53995641 0.76809211 0.15130338 0.0857641 ]\n",
      " [0.         0.         0.         0.         0.        ]\n",
      " [0.11132857 0.18477221 0.15565723 0.45665641 0.77443486]\n",
      " [0.27876077 0.49583038 0.67120278 0.4249823  0.11264817]]\n",
      "Centers Iteration Num: 1 \n",
      " [[0.48614312 0.44025867 0.30012225 0.39228386 0.48031866]\n",
      " [0.24031018 0.53931248 0.76772066 0.15653499 0.08510791]\n",
      " [0.         0.         0.         0.         0.        ]\n",
      " [0.10195198 0.17727837 0.15349982 0.43978871 0.79130635]\n",
      " [0.27984844 0.49584124 0.67173351 0.42559052 0.11134544]]\n",
      "Centers Iteration Num: 2 \n",
      " [[0.47801999 0.43610028 0.29736296 0.40576604 0.47972773]\n",
      " [0.23952954 0.53910272 0.76765503 0.15815621 0.08482776]\n",
      " [0.         0.         0.         0.         0.        ]\n",
      " [0.0973216  0.17315216 0.15217934 0.42916873 0.80096403]\n",
      " [0.28062553 0.49612398 0.67231454 0.42513106 0.11032254]]\n",
      "Centers Iteration Num: 3 \n",
      " [[0.47275617 0.43338201 0.29560497 0.41288127 0.48026198]\n",
      " [0.23906049 0.5390343  0.76773536 0.15855278 0.08465066]\n",
      " [0.         0.         0.         0.         0.        ]\n",
      " [0.09464565 0.1706119  0.15123377 0.42292992 0.80666263]\n",
      " [0.28115833 0.49627999 0.67262726 0.42462636 0.10992806]]\n"
     ]
    }
   ],
   "source": [
    "distXToV = np.ndarray(shape=(C))\n",
    "pixelClusterAppartenance = np.ndarray(shape=(img_w * img_h))\n",
    "\n",
    "for iteration in range(iterations):\n",
    "    for index, x in enumerate(X_scaled):\n",
    "        for sub_index, v in enumerate(V):\n",
    "            distXToV[sub_index] = euclidean_distances(x.reshape(1,-1), v.reshape(1, -1))\n",
    "#             print(distXToV[sub_index], '')\n",
    "        pixelClusterAppartenance[index] = np.argmin(distXToV)\n",
    "#         print(pixelClusterAppartenance[index])\n",
    "\n",
    "    clusterToCheck = np.arange(C)\n",
    "    clustersEmpty = np.in1d(clusterToCheck, pixelClusterAppartenance)\n",
    "    \n",
    "    for index, item in enumerate(clustersEmpty):\n",
    "        if item == False:\n",
    "            pixelClusterAppartenance[np.random.randint(len(pixelClusterAppartenance))] = index\n",
    "    \n",
    "    for index in range(C):\n",
    "        dataInCenter = []\n",
    "        \n",
    "        for sub_index, item in enumerate(pixelClusterAppartenance):\n",
    "            if item == index:\n",
    "                dataInCenter.append(X_scaled[sub_index])\n",
    "        dataInCenter = np.array(dataInCenter)\n",
    "        V[index] = np.mean(dataInCenter, axis = 0)\n",
    "    \n",
    "    print('Centers Iteration Num:', iteration, \"\\n\", V)"
   ]
  },
  {
   "cell_type": "code",
   "execution_count": null,
   "metadata": {},
   "outputs": [],
   "source": []
  }
 ],
 "metadata": {
  "kernelspec": {
   "display_name": "Python 3",
   "language": "python",
   "name": "python3"
  },
  "language_info": {
   "codemirror_mode": {
    "name": "ipython",
    "version": 3
   },
   "file_extension": ".py",
   "mimetype": "text/x-python",
   "name": "python",
   "nbconvert_exporter": "python",
   "pygments_lexer": "ipython3",
   "version": "3.6.5"
  }
 },
 "nbformat": 4,
 "nbformat_minor": 2
}
