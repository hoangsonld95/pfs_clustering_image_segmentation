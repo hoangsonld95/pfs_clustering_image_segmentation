{
 "cells": [
  {
   "cell_type": "code",
   "execution_count": 1,
   "metadata": {},
   "outputs": [],
   "source": [
    "# This is a sample model to demonstrate how a Machine Learning model \n",
    "# can be implemented in Production as a REST API and how it can be consumed\n",
    "\n",
    "# Import libraries and packages\n",
    "from sklearn import svm, datasets\n",
    "import pickle \n",
    "import numpy as np\n",
    "\n",
    "# Load Sample data\n",
    "iris = datasets.load_iris()\n",
    "\n",
    "# Split loaded data into independent and target features\n",
    "X = iris.data  \n",
    "y = iris.target\n",
    "\n",
    "# Train Support Vector Machine (SVM) model with all data \n",
    "svmModel = svm.SVC(kernel='poly', degree=3, C=1.0).fit(X, y)\n",
    "\n",
    "# Persist model so that it can be used by different consumers\n",
    "svmFile = open('SVMModel.pckl', 'wb')\n",
    "pickle.dump(svmModel, svmFile)\n",
    "svmFile.close()"
   ]
  },
  {
   "cell_type": "code",
   "execution_count": null,
   "metadata": {},
   "outputs": [],
   "source": []
  }
 ],
 "metadata": {
  "kernelspec": {
   "display_name": "Python 3",
   "language": "python",
   "name": "python3"
  },
  "language_info": {
   "codemirror_mode": {
    "name": "ipython",
    "version": 3
   },
   "file_extension": ".py",
   "mimetype": "text/x-python",
   "name": "python",
   "nbconvert_exporter": "python",
   "pygments_lexer": "ipython3",
   "version": "3.6.5"
  }
 },
 "nbformat": 4,
 "nbformat_minor": 2
}
