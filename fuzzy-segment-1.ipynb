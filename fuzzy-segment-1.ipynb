{
 "cells": [
  {
   "cell_type": "markdown",
   "metadata": {},
   "source": [
    "# Import lib"
   ]
  },
  {
   "cell_type": "code",
   "execution_count": 6,
   "metadata": {},
   "outputs": [],
   "source": [
    "import numpy as np\n",
    "import matplotlib.pyplot as plt\n",
    "import skfuzzy as fuzz\n",
    "import random\n",
    "import os\n",
    "import cv2 as cv2\n",
    "import numpy as np\n",
    "import math as math\n",
    "import time\n",
    "from sklearn.metrics.pairwise import euclidean_distances\n",
    "\n",
    "C = 5\n",
    "D = 3\n",
    "M = 2.5\n",
    "error = 0.1\n",
    "maxiter = 1000\n",
    "\n"
   ]
  },
  {
   "cell_type": "code",
   "execution_count": 7,
   "metadata": {},
   "outputs": [
    {
     "name": "stdout",
     "output_type": "stream",
     "text": [
      "[[179 179 179]\n",
      " [179 179 179]\n",
      " [178 178 178]\n",
      " ...\n",
      " [127 127 127]\n",
      " [129 129 129]\n",
      " [130 130 130]]\n",
      "[[0.95013957 0.63283613 0.1737992 ]\n",
      " [0.14834791 0.20558438 0.5720236 ]\n",
      " [0.44116917 0.76614301 0.97068601]\n",
      " [0.72099226 0.80528243 0.05608149]\n",
      " [0.30322909 0.07658103 0.17582756]]\n",
      "200 200 3\n"
     ]
    }
   ],
   "source": [
    "img = cv2.imread('2.png')\n",
    "N = img.shape[0] * img.shape[1]\n",
    "X = img.reshape(N, 3)\n",
    "V = np.random.rand(C, D)\n",
    "U = np.ndarray(shape=(N, C))\n",
    "\n",
    "print(X)\n",
    "print(V)\n",
    "print(img.shape[0], img.shape[1], img.shape[2])"
   ]
  },
  {
   "cell_type": "code",
   "execution_count": 8,
   "metadata": {},
   "outputs": [],
   "source": [
    "def initU(U):\n",
    "    \n",
    "    p = 2.0/(M-1)\n",
    "    \n",
    "    for i in range(N):\n",
    "        distances = [euclidean_distances(X[i].reshape(1,-1), V[j].reshape(1,-1)) for j in range(C)]\n",
    "        for j in range(C):\n",
    "            denom = sum([math.pow((distances[j]/distances[k]), p) for k in range(C)])\n",
    "            U[i][j] = 1.0/denom\n",
    "     \n",
    "\n",
    "def normalizeU(U):\n",
    "    \n",
    "    for i in range(N):\n",
    "        sigma = sum(U[i])\n",
    "        U[i] = [u/sigma for u in U[i]]\n",
    "    \n",
    "\n",
    "def updateV():\n",
    "    \n",
    "    U_zipped = zip(*U)\n",
    "    V = list()\n",
    "    \n",
    "    for j in range(C):\n",
    "        \n",
    "        U_col = list(U_zipped)\n",
    "        u_exp = [u ** m for u in U_col]\n",
    "        denom = sum(u_exp)\n",
    "        temp_num = list()\n",
    "        \n",
    "        for i in range(N):\n",
    "            \n",
    "         \n",
    "            \n",
    "\n",
    "def updateU():\n",
    "    \n",
    "    \n",
    "        \n",
    "        \n",
    "    \n",
    "    \n",
    "    \n",
    "        \n",
    "    \n",
    "def fuzzyCMeans(X, C, M, error, maxiter):\n",
    "    \n",
    "    initU(U)\n",
    "    normalizeU(U)\n",
    "    \n",
    "    while True: \n",
    "        \n",
    "        updateV()\n",
    "        U_old = U.copy()\n",
    "        updateU()\n",
    "        \n",
    "        if(maxDiffU(U - U_old) < error):\n",
    "            break\n",
    "    \n",
    "    \n",
    "    return V, U\n",
    "    "
   ]
  },
  {
   "cell_type": "code",
   "execution_count": 9,
   "metadata": {},
   "outputs": [
    {
     "name": "stdout",
     "output_type": "stream",
     "text": [
      "[[0.20017736 0.19976409 0.20038782 0.20009037 0.19958036]\n",
      " [0.20017736 0.19976409 0.20038782 0.20009037 0.19958036]\n",
      " [0.20017836 0.19976276 0.20039001 0.20009088 0.19957799]\n",
      " ...\n",
      " [0.20025001 0.19966713 0.2005474  0.20012719 0.19940826]\n",
      " [0.20024613 0.19967231 0.20053888 0.20012523 0.19941745]\n",
      " [0.20024424 0.19967484 0.20053471 0.20012427 0.19942194]]\n",
      "[[0.20017736 0.19976409 0.20038782 0.20009037 0.19958036]\n",
      " [0.20017736 0.19976409 0.20038782 0.20009037 0.19958036]\n",
      " [0.20017836 0.19976276 0.20039001 0.20009088 0.19957799]\n",
      " ...\n",
      " [0.20025001 0.19966713 0.2005474  0.20012719 0.19940826]\n",
      " [0.20024613 0.19967231 0.20053888 0.20012523 0.19941745]\n",
      " [0.20024424 0.19967484 0.20053471 0.20012427 0.19942194]]\n"
     ]
    }
   ],
   "source": [
    "fuzzyCMeans(X, C, M, error, maxiter)"
   ]
  },
  {
   "cell_type": "code",
   "execution_count": 30,
   "metadata": {},
   "outputs": [
    {
     "name": "stdout",
     "output_type": "stream",
     "text": [
      "(1, 2, 3) ('a', 'b', 'c')\n"
     ]
    }
   ],
   "source": [
    "a = [1,2,3]\n",
    "b = ['m', 'n', 'p']\n",
    "\n",
    "c = [(1,'a'), (2, 'b'), (3, 'c')]\n",
    "\n",
    "d, e = zip(*c)\n",
    "print (d,e)"
   ]
  },
  {
   "cell_type": "code",
   "execution_count": null,
   "metadata": {},
   "outputs": [],
   "source": []
  }
 ],
 "metadata": {
  "kernelspec": {
   "display_name": "Python 3",
   "language": "python",
   "name": "python3"
  },
  "language_info": {
   "codemirror_mode": {
    "name": "ipython",
    "version": 3
   },
   "file_extension": ".py",
   "mimetype": "text/x-python",
   "name": "python",
   "nbconvert_exporter": "python",
   "pygments_lexer": "ipython3",
   "version": "3.6.5"
  }
 },
 "nbformat": 4,
 "nbformat_minor": 2
}
